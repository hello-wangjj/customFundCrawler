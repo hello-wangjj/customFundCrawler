{
 "cells": [
  {
   "cell_type": "code",
   "execution_count": 27,
   "metadata": {
    "collapsed": true,
    "pycharm": {
     "is_executing": false,
     "name": "#%%\n"
    }
   },
   "outputs": [
    {
     "name": "stdout",
     "text": [
      "1 2\n",
      "1 2 3\n",
      "1 2 3 4\n"
     ],
     "output_type": "stream"
    },
    {
     "data": {
      "text/plain": "'\\nB 继承了A，如果super在最后，则最后调用A的__init__方法\\n'"
     },
     "metadata": {},
     "output_type": "execute_result",
     "execution_count": 27
    }
   ],
   "source": [
    "class A(object):\n",
    "    def __init__(self):\n",
    "        self.a = 1\n",
    "        self.b = 2\n",
    "    def funca(self):\n",
    "        print(self.a,self.b)\n",
    "\n",
    "class B(A):\n",
    "    def __init__(self,c,d):\n",
    "        \n",
    "        self.a = 11\n",
    "        self.c = c\n",
    "        self.d = d\n",
    "        super(B, self).__init__()\n",
    "       \n",
    "    def funcb(self):\n",
    "        print(self.a,self.b,self.c)\n",
    "    \n",
    "b = B(c=3,d=4)\n",
    "b.funca()\n",
    "b.funcb()\n",
    "print(b.a,b.b,b.c,b.d)\n",
    "\n",
    "\n",
    "\n",
    "\"\"\"\n",
    "1. B类继承A类，在B类自己的基础上可以调用A类所以的方法，代码最后两行b.funcb() b.funca()可以正常运行。\n",
    "\n",
    "2. super函数可以调用A父类中的属性，B类中有同名属性时，覆盖A类中的同名属性。但调用函数时总是先查找它自身的定义，如果没有定义，则顺着继承链向上查找，直到在某个父类中找到为止。\n",
    "\n",
    "4.B类__init__()参数需大于或等于A父类的__init__方法，因为super初始化了，参数量为父类参数量。\n",
    "\n",
    "5.super函数原理：super().__init__(xxx,xxx)中的xxx参数为类B（）中输入的参数，\n",
    "但与类A中参数名相对应。\n",
    "6.使用super函数时，可将B子类中（#5）与A类相同的参数依次写入__init__(xxx)的xxx参数中（注意self参数已在super()中传入，\n",
    "在__init__()中将隐式传递，不需要写出，也不能写），\n",
    "之后可再次重写xxx中参数属性，#5中多余参数可自定义属性\n",
    "\"\"\""
   ]
  },
  {
   "cell_type": "code",
   "execution_count": 29,
   "outputs": [
    {
     "name": "stdout",
     "text": [
      "1 2 4 5 6\n"
     ],
     "output_type": "stream"
    }
   ],
   "source": [
    "class C(B):\n",
    "    def __init__(self,c,d,e):\n",
    "        \n",
    "        self.a = 11\n",
    "        self.b = 22\n",
    "        self.e = e\n",
    "        super(C, self).__init__(c=c,d=d)\n",
    "\n",
    "C = C(c=4,d=5,e=6)\n",
    "print(C.a,C.b,C.c,C.d,C.e)\n",
    "\n"
   ],
   "metadata": {
    "collapsed": false,
    "pycharm": {
     "name": "#%%\n",
     "is_executing": false
    }
   }
  }
 ],
 "metadata": {
  "kernelspec": {
   "display_name": "Python 3",
   "language": "python",
   "name": "python3"
  },
  "language_info": {
   "codemirror_mode": {
    "name": "ipython",
    "version": 2
   },
   "file_extension": ".py",
   "mimetype": "text/x-python",
   "name": "python",
   "nbconvert_exporter": "python",
   "pygments_lexer": "ipython2",
   "version": "2.7.6"
  },
  "pycharm": {
   "stem_cell": {
    "cell_type": "raw",
    "source": [],
    "metadata": {
     "collapsed": false
    }
   }
  }
 },
 "nbformat": 4,
 "nbformat_minor": 0
}